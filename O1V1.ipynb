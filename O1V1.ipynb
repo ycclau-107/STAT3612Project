{
 "cells": [
  {
   "cell_type": "code",
   "execution_count": 6,
   "id": "23ed1493-7c02-4d3f-b513-e0b62749f0b3",
   "metadata": {},
   "outputs": [
    {
     "name": "stdout",
     "output_type": "stream",
     "text": [
      "Requirement already satisfied: numpy in /Users/ycclau/opt/anaconda3/lib/python3.9/site-packages (1.21.5)\n",
      "Requirement already satisfied: pandas in /Users/ycclau/opt/anaconda3/lib/python3.9/site-packages (1.4.2)\n",
      "Requirement already satisfied: matplotlib in /Users/ycclau/opt/anaconda3/lib/python3.9/site-packages (3.5.1)\n",
      "Requirement already satisfied: seaborn in /Users/ycclau/opt/anaconda3/lib/python3.9/site-packages (0.11.2)\n",
      "Requirement already satisfied: sklearn in /Users/ycclau/opt/anaconda3/lib/python3.9/site-packages (0.0)\n",
      "Requirement already satisfied: python-dateutil>=2.8.1 in /Users/ycclau/opt/anaconda3/lib/python3.9/site-packages (from pandas) (2.8.2)\n",
      "Requirement already satisfied: pytz>=2020.1 in /Users/ycclau/opt/anaconda3/lib/python3.9/site-packages (from pandas) (2021.3)\n",
      "Requirement already satisfied: fonttools>=4.22.0 in /Users/ycclau/opt/anaconda3/lib/python3.9/site-packages (from matplotlib) (4.25.0)\n",
      "Requirement already satisfied: pyparsing>=2.2.1 in /Users/ycclau/opt/anaconda3/lib/python3.9/site-packages (from matplotlib) (3.0.4)\n",
      "Requirement already satisfied: kiwisolver>=1.0.1 in /Users/ycclau/opt/anaconda3/lib/python3.9/site-packages (from matplotlib) (1.3.2)\n",
      "Requirement already satisfied: cycler>=0.10 in /Users/ycclau/opt/anaconda3/lib/python3.9/site-packages (from matplotlib) (0.11.0)\n",
      "Requirement already satisfied: packaging>=20.0 in /Users/ycclau/opt/anaconda3/lib/python3.9/site-packages (from matplotlib) (21.3)\n",
      "Requirement already satisfied: pillow>=6.2.0 in /Users/ycclau/opt/anaconda3/lib/python3.9/site-packages (from matplotlib) (9.0.1)\n",
      "Requirement already satisfied: scipy>=1.0 in /Users/ycclau/opt/anaconda3/lib/python3.9/site-packages (from seaborn) (1.7.3)\n",
      "Requirement already satisfied: scikit-learn in /Users/ycclau/opt/anaconda3/lib/python3.9/site-packages (from sklearn) (1.0.2)\n",
      "Requirement already satisfied: six>=1.5 in /Users/ycclau/opt/anaconda3/lib/python3.9/site-packages (from python-dateutil>=2.8.1->pandas) (1.16.0)\n",
      "Requirement already satisfied: threadpoolctl>=2.0.0 in /Users/ycclau/opt/anaconda3/lib/python3.9/site-packages (from scikit-learn->sklearn) (2.2.0)\n",
      "Requirement already satisfied: joblib>=0.11 in /Users/ycclau/opt/anaconda3/lib/python3.9/site-packages (from scikit-learn->sklearn) (1.1.0)\n"
     ]
    }
   ],
   "source": [
    "! pip install numpy pandas matplotlib seaborn sklearn"
   ]
  },
  {
   "cell_type": "code",
   "execution_count": 7,
   "id": "990180d4-d9dd-4ba7-8982-553eca2f78d4",
   "metadata": {},
   "outputs": [],
   "source": [
    "import numpy as np\n",
    "import pandas as pd\n",
    "import matplotlib.pyplot as plt\n",
    "import seaborn as sns\n"
   ]
  },
  {
   "cell_type": "code",
   "execution_count": 110,
   "id": "3047b3d6-2444-4c29-897c-3b8839cf3965",
   "metadata": {},
   "outputs": [],
   "source": [
    "#determine the size of rows token for testing\n",
    "\n",
    "#read Y_train csv file\n",
    "Y_train = pd.read_csv(\"Y_train.csv\")\n",
    "\n",
    "#read X_train first 3 rows for header\n",
    "df_X_header = pd.read_csv(\"X_train.csv\", dtype = str, nrows = 3,header = None)\n",
    "\n",
    "#combine df_X_header by row\n",
    "\n",
    "\n",
    "X_header = []\n",
    "for ic in range(len(df_X_header.columns)):\n",
    "    temp = \"\"\n",
    "    for ir in range(len(df_X_header)):\n",
    "        if(ir != 0):\n",
    "            temp += \"&\"\n",
    "        temp += df_X_header.iloc[ir,ic]\n",
    "    X_header.append(temp)\n",
    "\n",
    "#read X_train csv files except first 3 rows \n",
    "X_train = pd.read_csv(\"X_train.csv\",\n",
    "                         skiprows = 3,\n",
    "                         header = None)\n",
    "\n",
    "#combine header and the data together\n",
    "X_train.columns = X_header"
   ]
  },
  {
   "cell_type": "code",
   "execution_count": 106,
   "id": "e7072659-90d7-4419-b1ea-5461d2011190",
   "metadata": {},
   "outputs": [
    {
     "name": "stdout",
     "output_type": "stream",
     "text": [
      "(16760, 7489)\n",
      "(16760, 2)\n"
     ]
    }
   ],
   "source": [
    "print(X_train.shape)\n",
    "print(Y_train.shape)"
   ]
  },
  {
   "cell_type": "code",
   "execution_count": 47,
   "id": "b46876e1-d142-4e09-90fa-f36abf7ce53b",
   "metadata": {},
   "outputs": [],
   "source": [
    "#pre-processing\n",
    "\n",
    "#Standardization\n",
    "\n"
   ]
  },
  {
   "cell_type": "code",
   "execution_count": 111,
   "id": "6d7db202-8be3-48e6-b238-5a249729822d",
   "metadata": {},
   "outputs": [
    {
     "name": "stdout",
     "output_type": "stream",
     "text": [
      "105 105\n"
     ]
    }
   ],
   "source": [
    "def feature_dim(df_col):\n",
    "    if(df_col == Null):\n",
    "        df_col = pd.read_csv(\"X_train.csv\",dtype = str, nrows = 0)\n",
    "    count = 0\n",
    "    word = []\n",
    "    for i in df_col.columns:\n",
    "        if '.' in i:\n",
    "            temp = i[:i.find('.')]\n",
    "        else:\n",
    "            temp = i\n",
    "        if temp not in word:\n",
    "            word.append(temp)\n",
    "            count += 1\n",
    "    return X_features"
   ]
  },
  {
   "cell_type": "code",
   "execution_count": 109,
   "id": "00a1402d-4d66-4c71-a824-64c38be78729",
   "metadata": {},
   "outputs": [
    {
     "name": "stdout",
     "output_type": "stream",
     "text": [
      "              0    1    2    3    4    5    6    7    8    9     ... 7479  \\\n",
      "0  3_145834_211552  1.0  0.0  0.0  0.0  0.0  0.0  0.0  0.0  0.0  ...  6.0   \n",
      "\n",
      "  7480 7481 7482  7483  7484  7485  7486  7487  7488  \n",
      "0  7.0  8.0  9.0  10.0  11.0  12.0  13.0  14.0  15.0  \n",
      "\n",
      "[1 rows x 7489 columns]\n"
     ]
    }
   ],
   "source": [
    "X_header_agg = pd.read_csv(\"X_train.csv\",dtype = str, skiprows =3, nrows = 1,header = None)\n",
    "print(X_header_agg)"
   ]
  },
  {
   "cell_type": "code",
   "execution_count": null,
   "id": "8c769f26-529a-47d2-8984-154260f6899c",
   "metadata": {},
   "outputs": [],
   "source": []
  }
 ],
 "metadata": {
  "kernelspec": {
   "display_name": "Python 3 (ipykernel)",
   "language": "python",
   "name": "python3"
  },
  "language_info": {
   "codemirror_mode": {
    "name": "ipython",
    "version": 3
   },
   "file_extension": ".py",
   "mimetype": "text/x-python",
   "name": "python",
   "nbconvert_exporter": "python",
   "pygments_lexer": "ipython3",
   "version": "3.9.12"
  }
 },
 "nbformat": 4,
 "nbformat_minor": 5
}
