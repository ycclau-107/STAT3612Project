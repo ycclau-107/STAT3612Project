{
 "cells": [
  {
   "cell_type": "code",
   "execution_count": 1,
   "id": "23ed1493-7c02-4d3f-b513-e0b62749f0b3",
   "metadata": {},
   "outputs": [
    {
     "name": "stdout",
     "output_type": "stream",
     "text": [
      "Requirement already satisfied: numpy in /Users/ycclau/opt/anaconda3/lib/python3.9/site-packages (1.21.5)\n",
      "Requirement already satisfied: pandas in /Users/ycclau/opt/anaconda3/lib/python3.9/site-packages (1.4.2)\n",
      "Requirement already satisfied: matplotlib in /Users/ycclau/opt/anaconda3/lib/python3.9/site-packages (3.5.1)\n",
      "Requirement already satisfied: seaborn in /Users/ycclau/opt/anaconda3/lib/python3.9/site-packages (0.11.2)\n",
      "Requirement already satisfied: sklearn in /Users/ycclau/opt/anaconda3/lib/python3.9/site-packages (0.0)\n",
      "Requirement already satisfied: python-dateutil>=2.8.1 in /Users/ycclau/opt/anaconda3/lib/python3.9/site-packages (from pandas) (2.8.2)\n",
      "Requirement already satisfied: pytz>=2020.1 in /Users/ycclau/opt/anaconda3/lib/python3.9/site-packages (from pandas) (2021.3)\n",
      "Requirement already satisfied: kiwisolver>=1.0.1 in /Users/ycclau/opt/anaconda3/lib/python3.9/site-packages (from matplotlib) (1.3.2)\n",
      "Requirement already satisfied: cycler>=0.10 in /Users/ycclau/opt/anaconda3/lib/python3.9/site-packages (from matplotlib) (0.11.0)\n",
      "Requirement already satisfied: fonttools>=4.22.0 in /Users/ycclau/opt/anaconda3/lib/python3.9/site-packages (from matplotlib) (4.25.0)\n",
      "Requirement already satisfied: packaging>=20.0 in /Users/ycclau/opt/anaconda3/lib/python3.9/site-packages (from matplotlib) (21.3)\n",
      "Requirement already satisfied: pillow>=6.2.0 in /Users/ycclau/opt/anaconda3/lib/python3.9/site-packages (from matplotlib) (9.0.1)\n",
      "Requirement already satisfied: pyparsing>=2.2.1 in /Users/ycclau/opt/anaconda3/lib/python3.9/site-packages (from matplotlib) (3.0.4)\n",
      "Requirement already satisfied: scipy>=1.0 in /Users/ycclau/opt/anaconda3/lib/python3.9/site-packages (from seaborn) (1.7.3)\n",
      "Requirement already satisfied: scikit-learn in /Users/ycclau/opt/anaconda3/lib/python3.9/site-packages (from sklearn) (1.0.2)\n",
      "Requirement already satisfied: six>=1.5 in /Users/ycclau/opt/anaconda3/lib/python3.9/site-packages (from python-dateutil>=2.8.1->pandas) (1.16.0)\n",
      "Requirement already satisfied: joblib>=0.11 in /Users/ycclau/opt/anaconda3/lib/python3.9/site-packages (from scikit-learn->sklearn) (1.1.0)\n",
      "Requirement already satisfied: threadpoolctl>=2.0.0 in /Users/ycclau/opt/anaconda3/lib/python3.9/site-packages (from scikit-learn->sklearn) (2.2.0)\n"
     ]
    }
   ],
   "source": [
    "! pip install numpy pandas matplotlib seaborn sklearn"
   ]
  },
  {
   "cell_type": "code",
   "execution_count": 2,
   "id": "990180d4-d9dd-4ba7-8982-553eca2f78d4",
   "metadata": {},
   "outputs": [],
   "source": [
    "import numpy as np\n",
    "import pandas as pd\n",
    "import matplotlib.pyplot as plt\n",
    "import seaborn as sns\n"
   ]
  },
  {
   "cell_type": "code",
   "execution_count": 41,
   "id": "3047b3d6-2444-4c29-897c-3b8839cf3965",
   "metadata": {},
   "outputs": [],
   "source": [
    "#determine the size of rows token for testing\n",
    "\n",
    "#read Y_train csv file\n",
    "Y_train = pd.read_csv(\"Y_train.csv\")\n",
    "\n",
    "#read X_train first 3 rows for header\n",
    "df_X_header = pd.read_csv(\"X_train.csv\", dtype = str, nrows = 3,header = None)\n",
    "\n",
    "#combine df_X_header by row\n",
    "X_header = []\n",
    "for ic in range(len(df_X_header.columns)):\n",
    "    temp = \"\"\n",
    "    for ir in range(len(df_X_header)):\n",
    "        if(ir != 0):\n",
    "            temp += \"&\"\n",
    "        temp += df_X_header.iloc[ir,ic]\n",
    "    X_header.append(temp)\n",
    "\n",
    "#read X_train csv files except first 3 rows \n",
    "X_train = pd.read_csv(\"X_train.csv\",\n",
    "                         skiprows = 3,\n",
    "                         header = None)\n",
    "\n",
    "#combine header and the data together\n",
    "X_train.columns = X_header\n"
   ]
  },
  {
   "cell_type": "code",
   "execution_count": 42,
   "id": "e7072659-90d7-4419-b1ea-5461d2011190",
   "metadata": {},
   "outputs": [
    {
     "name": "stdout",
     "output_type": "stream",
     "text": [
      "(16760, 7489)\n",
      "(16760,)\n",
      "(16760, 7488)\n"
     ]
    }
   ],
   "source": [
    "\n",
    "# print(Y_train.shape)\n",
    "\n",
    "X_id = X_train.iloc[:,0]\n",
    "X_feat = X_train.iloc[:,1:]\n",
    "print(X_train.shape)\n",
    "print(X_id.shape)\n",
    "print(X_feat.shape)"
   ]
  },
  {
   "cell_type": "code",
   "execution_count": 43,
   "id": "6d7db202-8be3-48e6-b238-5a249729822d",
   "metadata": {},
   "outputs": [
    {
     "name": "stdout",
     "output_type": "stream",
     "text": [
      "105\n"
     ]
    }
   ],
   "source": [
    "#understand the structure of features\n",
    "#the number retured indicates how many \"elements\" included in feature set\n",
    "def feature_dim(df_col = pd.read_csv(\"X_train.csv\",dtype = str, nrows = 0)):\n",
    "    count = 0\n",
    "    word = []\n",
    "    for i in df_col.columns:\n",
    "        if '.' in i:\n",
    "            temp = i[:i.find('.')]\n",
    "        else:\n",
    "            temp = i\n",
    "        if temp not in word:\n",
    "            word.append(temp)\n",
    "            count += 1\n",
    "    return count\n",
    "print(feature_dim())"
   ]
  },
  {
   "cell_type": "code",
   "execution_count": 44,
   "id": "00a1402d-4d66-4c71-a824-64c38be78729",
   "metadata": {},
   "outputs": [
    {
     "name": "stdout",
     "output_type": "stream",
     "text": [
      "<class 'pandas.core.frame.DataFrame'>\n",
      "Index: 7488 entries, alanine aminotransferase&mask&0 to white blood cell count urine&time_since_measured&23\n",
      "Columns: 7488 entries, alanine aminotransferase&mask&0 to white blood cell count urine&time_since_measured&23\n",
      "dtypes: float64(7488)\n",
      "memory usage: 428.1+ MB\n"
     ]
    }
   ],
   "source": [
    "corr = X_feat.corr()\n",
    "corr.info()"
   ]
  },
  {
   "cell_type": "code",
   "execution_count": 45,
   "id": "8c769f26-529a-47d2-8984-154260f6899c",
   "metadata": {},
   "outputs": [
    {
     "name": "stdout",
     "output_type": "stream",
     "text": [
      "n_features_selected by Corr: 2423\n"
     ]
    }
   ],
   "source": [
    "def featureSelectByCorr(corr):\n",
    "    threshold = 0.9\n",
    "    \n",
    "    cols = np.full((corr.shape[0],), True, dtype = bool)\n",
    "    for i in range(corr.shape[0]):\n",
    "        for j in range(i+1, corr.shape[0]):\n",
    "            if corr.iloc[i,j] >= threshold:\n",
    "                if cols[j]:\n",
    "                    cols[j] = False\n",
    "    print(\"n_features_selected by Corr:\",sum(cols))\n",
    "    return cols\n",
    "\n",
    "cols_corr = featureSelectByCorr(corr)"
   ]
  },
  {
   "cell_type": "code",
   "execution_count": 46,
   "id": "863261ee-4f34-490e-b846-96d92c79fc41",
   "metadata": {},
   "outputs": [
    {
     "name": "stdout",
     "output_type": "stream",
     "text": [
      "(16760, 2423)\n"
     ]
    }
   ],
   "source": [
    "X_feat_corr = X_feat[X_feat.columns[cols_corr]]\n",
    "print(X_feat_corr.shape)"
   ]
  },
  {
   "cell_type": "code",
   "execution_count": 50,
   "id": "d0feac7a-1519-48ee-a627-c9534e4ce949",
   "metadata": {},
   "outputs": [],
   "source": [
    "#output cols_corr in csv file\n",
    "import csv\n",
    "with open('X_feat_corr.csv','w', encoding = 'UTF8') as f:\n",
    "    writer = csv.writer(f)\n",
    "    writer.writerow(cols_corr)\n",
    "    f.close()"
   ]
  }
 ],
 "metadata": {
  "kernelspec": {
   "display_name": "Python 3 (ipykernel)",
   "language": "python",
   "name": "python3"
  },
  "language_info": {
   "codemirror_mode": {
    "name": "ipython",
    "version": 3
   },
   "file_extension": ".py",
   "mimetype": "text/x-python",
   "name": "python",
   "nbconvert_exporter": "python",
   "pygments_lexer": "ipython3",
   "version": "3.9.12"
  }
 },
 "nbformat": 4,
 "nbformat_minor": 5
}
