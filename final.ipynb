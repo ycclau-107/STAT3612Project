{
 "cells": [
  {
   "cell_type": "markdown",
   "metadata": {},
   "source": [
    "## Importing the file ###"
   ]
  },
  {
   "cell_type": "code",
   "execution_count": 25,
   "metadata": {},
   "outputs": [],
   "source": [
    "import pandas as pd\n",
    "import numpy as np\n",
    "import seaborn as sns\n",
    "import matplotlib.pyplot as plt"
   ]
  },
  {
   "cell_type": "code",
   "execution_count": 9,
   "metadata": {},
   "outputs": [],
   "source": [
    "X_train = pd.read_csv(\"X_train.csv\", index_col=[0], header=[0, 1, 2])\n",
    "X_valid = pd.read_csv(\"X_valid.csv\", index_col=[0], header=[0, 1, 2])\n",
    "Y_train = pd.read_csv(\"Y_train.csv\", index_col=[0], header=[0])\n",
    "Y_valid = pd.read_csv(\"Y_valid.csv\", index_col=[0], header=[0])"
   ]
  },
  {
   "cell_type": "markdown",
   "metadata": {},
   "source": [
    "## Feature Selection "
   ]
  },
  {
   "cell_type": "markdown",
   "metadata": {},
   "source": [
    "#### Extract mean columns ####"
   ]
  },
  {
   "cell_type": "code",
   "execution_count": 17,
   "metadata": {},
   "outputs": [],
   "source": [
    "Drop_columns=[]\n",
    "for i in range(len(X_train.columns)):\n",
    "    if X_train.columns[i][1]=='mask' or X_train.columns[i][1]=='time_since_measured':\n",
    "        Drop_columns.append(X_train.columns[i])\n",
    "\n",
    "X_train=X_train.drop(Drop_columns,axis=1)"
   ]
  },
  {
   "cell_type": "markdown",
   "metadata": {},
   "source": [
    "#### Variance thershold ####"
   ]
  },
  {
   "cell_type": "code",
   "execution_count": 18,
   "metadata": {},
   "outputs": [
    {
     "data": {
      "text/plain": [
       "(16760, 2496)"
      ]
     },
     "execution_count": 18,
     "metadata": {},
     "output_type": "execute_result"
    }
   ],
   "source": [
    "from sklearn.feature_selection import VarianceThreshold\n",
    "selector = VarianceThreshold()\n",
    "selector.fit_transform(X_train).shape\n",
    "#No constant variance columns"
   ]
  },
  {
   "cell_type": "markdown",
   "metadata": {},
   "source": [
    "#### Dropping high-correlated columns ####"
   ]
  },
  {
   "cell_type": "code",
   "execution_count": 19,
   "metadata": {},
   "outputs": [
    {
     "name": "stdout",
     "output_type": "stream",
     "text": [
      "Select features by filtering features with high covariance (>= 0.9) :\n",
      "Original: 2496 \tSelected: 349\n"
     ]
    }
   ],
   "source": [
    "#Define a function for dropping high-coorelated columns\n",
    "def featureSelectByCorr(df_feat,threshold = 0.9):\n",
    "    corr = df_feat.corr()\n",
    "    \n",
    "    cols = np.full((corr.shape[0],), True, dtype = bool)\n",
    "    for i in range(corr.shape[0],0,-1):\n",
    "        for j in range(i+1, corr.shape[0]):\n",
    "            if corr.iloc[i,j] >= threshold:\n",
    "                if(cols[j]):\n",
    "                    cols[j] = False\n",
    "    print(\"Select features by filtering features with high covariance\",\"(>= \"+str(threshold)+\")\",\":\")\n",
    "    print(\"Original:\",df_feat.shape[1],\"\\tSelected:\",np.sum(cols))\n",
    "    \n",
    "    return df_feat.iloc[:,cols]\n",
    "\n",
    "\n",
    "\n",
    "\n",
    "X_corr = featureSelectByCorr(X_train,0.9)\n",
    "\n",
    "\n",
    "\n"
   ]
  },
  {
   "cell_type": "markdown",
   "metadata": {},
   "source": [
    "## Data scaling or manipulation"
   ]
  },
  {
   "cell_type": "markdown",
   "metadata": {},
   "source": [
    "#### Normalize all the variable"
   ]
  },
  {
   "cell_type": "code",
   "execution_count": 63,
   "metadata": {},
   "outputs": [],
   "source": [
    "from sklearn.preprocessing import MinMaxScaler\n",
    "scaler = MinMaxScaler((-1,1))\n",
    "X_norm=scaler.fit_transform(X_corr)\n",
    "X_norm=pd.DataFrame(X_norm)\n"
   ]
  },
  {
   "cell_type": "markdown",
   "metadata": {},
   "source": [
    "#### Change Y to numpy array"
   ]
  },
  {
   "cell_type": "markdown",
   "metadata": {},
   "source": [
    "#### Getting adjusted X_valid according to the work done on X_train"
   ]
  },
  {
   "cell_type": "code",
   "execution_count": 64,
   "metadata": {},
   "outputs": [],
   "source": [
    "X_valid_corr=X_valid[X_corr.columns]\n",
    "X_norm_valid=scaler.transform(X_valid_corr)\n",
    "X_norm_valid=pd.DataFrame(X_norm_valid)"
   ]
  },
  {
   "cell_type": "markdown",
   "metadata": {},
   "source": [
    "### Please use the data below for further investigation \n",
    "#### X_norm = X_train (349 feature)\n",
    "#### X_norm_valid = X_valid (349 feature)"
   ]
  },
  {
   "cell_type": "markdown",
   "metadata": {},
   "source": [
    "## Model Construction"
   ]
  },
  {
   "cell_type": "code",
   "execution_count": 66,
   "metadata": {},
   "outputs": [],
   "source": [
    "from sklearn.metrics import mean_squared_error"
   ]
  },
  {
   "cell_type": "markdown",
   "metadata": {},
   "source": [
    "#### Random Forest Regressor"
   ]
  },
  {
   "cell_type": "code",
   "execution_count": 72,
   "metadata": {},
   "outputs": [
    {
     "name": "stderr",
     "output_type": "stream",
     "text": [
      "C:\\Users\\yiuhe\\AppData\\Local\\Temp\\ipykernel_6028\\3397641522.py:3: DataConversionWarning: A column-vector y was passed when a 1d array was expected. Please change the shape of y to (n_samples,), for example using ravel().\n",
      "  regr.fit(X_norm, Y_train)\n"
     ]
    },
    {
     "data": {
      "text/plain": [
       "1.832661777925629"
      ]
     },
     "execution_count": 72,
     "metadata": {},
     "output_type": "execute_result"
    }
   ],
   "source": [
    "from sklearn.ensemble import RandomForestRegressor\n",
    "regr = RandomForestRegressor(max_depth=30, random_state=0)\n",
    "regr.fit(X_norm, Y_train)\n",
    "Y_pred=regr.predict(X_norm_valid)\n",
    "mean_squared_error(Y_valid, Y_pred, squared=False)\n"
   ]
  }
 ],
 "metadata": {
  "kernelspec": {
   "display_name": "Python 3.10.4 ('.venv': venv)",
   "language": "python",
   "name": "python3"
  },
  "language_info": {
   "codemirror_mode": {
    "name": "ipython",
    "version": 3
   },
   "file_extension": ".py",
   "mimetype": "text/x-python",
   "name": "python",
   "nbconvert_exporter": "python",
   "pygments_lexer": "ipython3",
   "version": "3.10.4"
  },
  "orig_nbformat": 4,
  "vscode": {
   "interpreter": {
    "hash": "c43eb3caf22e2da511256eb51805154847b65749facc32b0d53109fcf188ae9d"
   }
  }
 },
 "nbformat": 4,
 "nbformat_minor": 2
}
